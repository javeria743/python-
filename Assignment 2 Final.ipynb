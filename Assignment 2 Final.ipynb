{
 "cells": [
  {
   "cell_type": "code",
   "execution_count": null,
   "id": "1f45e780",
   "metadata": {},
   "outputs": [],
   "source": [
    "from random import randint\n",
    "\n",
    "# Generate a random number between 1 and 50\n",
    "secret_number = randint(1, 50)\n",
    "\n",
    "# Set the number of attempts\n",
    "attempts_left = 5\n",
    "print(\"--- Welcome to the Guessing Game! ---\")\n",
    "\n",
    "# Main game loop\n",
    "while attempts_left > 0:\n",
    "    try:\n",
    "        # Get user's guess\n",
    "        guess = int(input(\"Guess the secret number (between 1 and 50): \"))\n",
    "\n",
    "        # Check if the guess is correct\n",
    "        if guess == secret_number:\n",
    "            print(f\"Congratulations! You guessed the secret number {secret_number} correctly!\")\n",
    "            break\n",
    "        elif guess > secret_number:\n",
    "            print(f\"Try again! Your guess is too high. You have {attempts_left - 1} attempts left.\")\n",
    "        else:\n",
    "            print(f\"Try again! Your guess is too low. You have {attempts_left - 1} attempts left.\")\n",
    "\n",
    "        # Decrement attempts_left\n",
    "        attempts_left -= 1\n",
    "\n",
    "    except ValueError:\n",
    "        print(\"Invalid input! Please enter a valid number.\")\n",
    "        continue\n",
    "\n",
    "# Check if the user ran out of attempts\n",
    "if attempts_left == 0:\n",
    "    print(f\"Game Over! The secret number was {secret_number}. Better luck next time!\")\n",
    "\n",
    "# Offer a second chance\n",
    "else:\n",
    "    print(\"\\n--- Second Chance! ---\")\n",
    "\n",
    "    # Reset attempts for the second chance\n",
    "    attempts_left = 1\n",
    "\n",
    "    # Main game loop for the second chance\n",
    "    while attempts_left > 0:\n",
    "        try:\n",
    "            # Get user's guess\n",
    "            guess = int(input(\"Guess the secret number (between 1 and 50): \"))\n",
    "\n",
    "            # Check if the guess is correct\n",
    "            if guess == secret_number:\n",
    "                print(f\"Congratulations! You guessed the secret number {secret_number} correctly!\")\n",
    "                break\n",
    "            else:\n",
    "                print(\"Sorry, incorrect guess. Better luck next time!\")\n",
    "\n",
    "            # Decrement attempts_left\n",
    "            attempts_left -= 1\n",
    "\n",
    "        except ValueError:\n",
    "            print(\"Invalid input! Please enter a valid number.\")\n",
    "            continue"
   ]
  },
  {
   "cell_type": "code",
   "execution_count": 2,
   "id": "7125ef1b",
   "metadata": {},
   "outputs": [
    {
     "name": "stdout",
     "output_type": "stream",
     "text": [
      "The number of vowels in the string \"Learning Python is fun and engaging.\" is: 10\n"
     ]
    }
   ],
   "source": [
    "def num_vowels(input_string):\n",
    "    vowels = \"aeiouAEIOU\"\n",
    "    count = 0\n",
    "    \n",
    "    for char in input_string:\n",
    "        if char in vowels:\n",
    "            count += 1\n",
    "    \n",
    "    return count\n",
    "\n",
    "# Test the function with the given string\n",
    "input_string = \"Learning Python is fun and engaging.\"\n",
    "result = num_vowels(input_string)\n",
    "\n",
    "print(f'The number of vowels in the string \"{input_string}\" is: {result}')"
   ]
  },
  {
   "cell_type": "code",
   "execution_count": 3,
   "id": "fc12ed9e",
   "metadata": {},
   "outputs": [
    {
     "name": "stdout",
     "output_type": "stream",
     "text": [
      "2.5 hours is equal to 150.0 minutes.\n"
     ]
    }
   ],
   "source": [
    "def hours_to_min(hours):\n",
    "    minutes = hours * 60\n",
    "    return minutes\n",
    "\n",
    "# Test the function with 2.5 hours\n",
    "hours_input = 2.5\n",
    "result = hours_to_min(hours_input)\n",
    "\n",
    "print(f\"{hours_input} hours is equal to {result} minutes.\")"
   ]
  },
  {
   "cell_type": "code",
   "execution_count": 4,
   "id": "2a4269ec",
   "metadata": {},
   "outputs": [
    {
     "name": "stdout",
     "output_type": "stream",
     "text": [
      "1 x 6 = 6\n",
      "2 x 6 = 12\n",
      "3 x 6 = 18\n",
      "4 x 6 = 24\n",
      "5 x 6 = 30\n",
      "6 x 6 = 36\n",
      "7 x 6 = 42\n",
      "8 x 6 = 48\n",
      "9 x 6 = 54\n",
      "10 x 6 = 60\n",
      "11 x 6 = 66\n",
      "12 x 6 = 72\n"
     ]
    }
   ],
   "source": [
    "def print_multiplication_table(number):\n",
    "    for i in range(1, 13):\n",
    "        result = number * i\n",
    "        print(f\"{i} x {number} = {result}\")\n",
    "\n",
    "# Test the function with the sample output for the number 6\n",
    "print_multiplication_table(6)"
   ]
  },
  {
   "cell_type": "code",
   "execution_count": 1,
   "id": "1671a8ef",
   "metadata": {},
   "outputs": [
    {
     "name": "stdout",
     "output_type": "stream",
     "text": [
      "True\n",
      "False\n"
     ]
    }
   ],
   "source": [
    "def eligibility(age, GPA):\n",
    "    if age >= 18 and GPA >= 3.0:\n",
    "        return True\n",
    "    else:\n",
    "        return False\n",
    "\n",
    "# Test cases\n",
    "print(eligibility(30, 3.2))  # Test without keywords\n",
    "print(eligibility(GPA=2.9, age=40))  # Test with keywords"
   ]
  },
  {
   "cell_type": "code",
   "execution_count": 2,
   "id": "6064a575",
   "metadata": {},
   "outputs": [
    {
     "name": "stdout",
     "output_type": "stream",
     "text": [
      "True\n",
      "False\n",
      "True\n",
      "False\n"
     ]
    }
   ],
   "source": [
    "# Test with positional arguments\n",
    "print(eligibility(20, 3.5))  # Should return True\n",
    "print(eligibility(16, 3.8))  # Should return False\n",
    "\n",
    "# Test with keyword arguments\n",
    "print(eligibility(GPA=3.2, age=22))  # Should return True\n",
    "print(eligibility(age=17, GPA=3.6))  # Should return False"
   ]
  },
  {
   "cell_type": "code",
   "execution_count": 3,
   "id": "b3db8cbb",
   "metadata": {},
   "outputs": [
    {
     "name": "stdout",
     "output_type": "stream",
     "text": [
      "True\n"
     ]
    }
   ],
   "source": [
    "# Without keywords (positional arguments)\n",
    "print(eligibility(30, 3.2))"
   ]
  },
  {
   "cell_type": "code",
   "execution_count": null,
   "id": "9e9173a1",
   "metadata": {},
   "outputs": [],
   "source": []
  }
 ],
 "metadata": {
  "kernelspec": {
   "display_name": "Python 3 (ipykernel)",
   "language": "python",
   "name": "python3"
  },
  "language_info": {
   "codemirror_mode": {
    "name": "ipython",
    "version": 3
   },
   "file_extension": ".py",
   "mimetype": "text/x-python",
   "name": "python",
   "nbconvert_exporter": "python",
   "pygments_lexer": "ipython3",
   "version": "3.11.5"
  }
 },
 "nbformat": 4,
 "nbformat_minor": 5
}
